{
 "cells": [
  {
   "cell_type": "markdown",
   "id": "ddb849b2",
   "metadata": {},
   "source": [
    "# Slow Boring Comment Analysis\n",
    "A basic analysis of comments from [Slow Boring](https://www.slowboring.com/) between January and April of 2022.\n",
    "\n",
    "Data consists of anonymized comments with basic attributes.\n",
    "* `post_id` - The post on which the comment occurred\n",
    "* `comment_id` - A unique id for each comment\n",
    "* `user_id` - An anonymized identifier for each user\n",
    "* `date` - When the comment was posted in UTC\n",
    "* `hearts` - Number of hearts (i.e., likes) awarded to the comment\n",
    "* `ancestor_path` - Describes the ancestors (i.e., parents) of each comment. Empty for top-level comments\n",
    "\n",
    "The comments were fetched using the substack API that powers the website. They were then annonymized by replacing the internal ids with newly generated ones."
   ]
  },
  {
   "cell_type": "code",
   "execution_count": 1,
   "id": "c635526f",
   "metadata": {},
   "outputs": [],
   "source": [
    "import numpy as np\n",
    "import pandas as pd\n",
    "import matplotlib.pyplot as plt"
   ]
  },
  {
   "cell_type": "code",
   "execution_count": 2,
   "id": "ecb68eae",
   "metadata": {},
   "outputs": [],
   "source": [
    "plt.style.use('dark_background')\n",
    "plt.rc('font', size=16)\n",
    "\n",
    "pd.options.display.max_rows = 200\n",
    "pd.options.display.max_colwidth = 120\n",
    "pd.options.display.html.use_mathjax = False"
   ]
  },
  {
   "cell_type": "markdown",
   "id": "170d3de0",
   "metadata": {},
   "source": [
    "## Load Data\n",
    "Load the data, perform some basic transformation, and calculate some basic statistics"
   ]
  },
  {
   "cell_type": "code",
   "execution_count": 3,
   "id": "afb7bb45",
   "metadata": {},
   "outputs": [
    {
     "data": {
      "text/html": [
       "<div>\n",
       "<style scoped>\n",
       "    .dataframe tbody tr th:only-of-type {\n",
       "        vertical-align: middle;\n",
       "    }\n",
       "\n",
       "    .dataframe tbody tr th {\n",
       "        vertical-align: top;\n",
       "    }\n",
       "\n",
       "    .dataframe thead th {\n",
       "        text-align: right;\n",
       "    }\n",
       "</style>\n",
       "<table border=\"1\" class=\"dataframe tex2jax_ignore\">\n",
       "  <thead>\n",
       "    <tr style=\"text-align: right;\">\n",
       "      <th></th>\n",
       "      <th>post_id</th>\n",
       "      <th>comment_id</th>\n",
       "      <th>user_id</th>\n",
       "      <th>date</th>\n",
       "      <th>hearts</th>\n",
       "      <th>ancestor_path</th>\n",
       "    </tr>\n",
       "  </thead>\n",
       "  <tbody>\n",
       "    <tr>\n",
       "      <th>0</th>\n",
       "      <td>0</td>\n",
       "      <td>0</td>\n",
       "      <td>0</td>\n",
       "      <td>2022-01-03 11:23:00</td>\n",
       "      <td>28</td>\n",
       "      <td>()</td>\n",
       "    </tr>\n",
       "    <tr>\n",
       "      <th>1</th>\n",
       "      <td>0</td>\n",
       "      <td>1</td>\n",
       "      <td>1</td>\n",
       "      <td>2022-01-03 11:39:52</td>\n",
       "      <td>8</td>\n",
       "      <td>()</td>\n",
       "    </tr>\n",
       "    <tr>\n",
       "      <th>2</th>\n",
       "      <td>0</td>\n",
       "      <td>2</td>\n",
       "      <td>0</td>\n",
       "      <td>2022-01-03 11:44:27</td>\n",
       "      <td>12</td>\n",
       "      <td>(1,)</td>\n",
       "    </tr>\n",
       "    <tr>\n",
       "      <th>3</th>\n",
       "      <td>0</td>\n",
       "      <td>3</td>\n",
       "      <td>2</td>\n",
       "      <td>2022-01-03 11:47:34</td>\n",
       "      <td>6</td>\n",
       "      <td>(1,)</td>\n",
       "    </tr>\n",
       "    <tr>\n",
       "      <th>4</th>\n",
       "      <td>0</td>\n",
       "      <td>4</td>\n",
       "      <td>1</td>\n",
       "      <td>2022-01-03 11:52:14</td>\n",
       "      <td>6</td>\n",
       "      <td>(1, 3)</td>\n",
       "    </tr>\n",
       "  </tbody>\n",
       "</table>\n",
       "</div>"
      ],
      "text/plain": [
       "   post_id  comment_id  user_id                 date  hearts ancestor_path\n",
       "0        0           0        0  2022-01-03 11:23:00      28            ()\n",
       "1        0           1        1  2022-01-03 11:39:52       8            ()\n",
       "2        0           2        0  2022-01-03 11:44:27      12          (1,)\n",
       "3        0           3        2  2022-01-03 11:47:34       6          (1,)\n",
       "4        0           4        1  2022-01-03 11:52:14       6        (1, 3)"
      ]
     },
     "execution_count": 3,
     "metadata": {},
     "output_type": "execute_result"
    }
   ],
   "source": [
    "comments = pd.read_csv('slowboring_comments_anon.csv')\n",
    "comments['ancestor_path'] = (\n",
    "    comments['ancestor_path']\n",
    "    .fillna('')\n",
    "    .map(lambda p: tuple(i for i in p.split('.') if i))\n",
    ")\n",
    "comments.head()"
   ]
  },
  {
   "cell_type": "code",
   "execution_count": 4,
   "id": "948320a3",
   "metadata": {},
   "outputs": [
    {
     "data": {
      "text/plain": [
       "29900"
      ]
     },
     "execution_count": 4,
     "metadata": {},
     "output_type": "execute_result"
    }
   ],
   "source": [
    "len(comments)"
   ]
  },
  {
   "cell_type": "code",
   "execution_count": 5,
   "id": "064190c3",
   "metadata": {},
   "outputs": [
    {
     "data": {
      "text/plain": [
       "212"
      ]
     },
     "execution_count": 5,
     "metadata": {},
     "output_type": "execute_result"
    }
   ],
   "source": [
    "comments['post_id'].nunique()"
   ]
  },
  {
   "cell_type": "code",
   "execution_count": 6,
   "id": "79f66f00",
   "metadata": {},
   "outputs": [
    {
     "data": {
      "text/plain": [
       "2040"
      ]
     },
     "execution_count": 6,
     "metadata": {},
     "output_type": "execute_result"
    }
   ],
   "source": [
    "comments['user_id'].nunique()"
   ]
  },
  {
   "cell_type": "code",
   "execution_count": 7,
   "id": "ec073a0a",
   "metadata": {},
   "outputs": [
    {
     "data": {
      "text/plain": [
       "('2022-01-01 15:30:49', '2022-04-30 23:57:50')"
      ]
     },
     "execution_count": 7,
     "metadata": {},
     "output_type": "execute_result"
    }
   ],
   "source": [
    "comments['date'].min(), comments['date'].max()"
   ]
  },
  {
   "cell_type": "code",
   "execution_count": 8,
   "id": "8b4f6a07",
   "metadata": {},
   "outputs": [
    {
     "data": {
      "text/plain": [
       "count    29900.0\n",
       "mean         3.2\n",
       "std          6.7\n",
       "min          0.0\n",
       "25%          0.0\n",
       "50%          1.0\n",
       "75%          3.0\n",
       "90%          8.0\n",
       "95%         13.0\n",
       "99%         30.0\n",
       "max        229.0\n",
       "Name: hearts, dtype: float64"
      ]
     },
     "execution_count": 8,
     "metadata": {},
     "output_type": "execute_result"
    }
   ],
   "source": [
    "(comments['hearts']\n",
    " .describe(percentiles=[0.25, 0.5, 0.75, 0.9, 0.95, 0.99])\n",
    " .round(1))"
   ]
  },
  {
   "cell_type": "code",
   "execution_count": 9,
   "id": "14d41dab",
   "metadata": {},
   "outputs": [
    {
     "data": {
      "text/plain": [
       "count    29900.0\n",
       "mean         2.4\n",
       "std          2.5\n",
       "min          0.0\n",
       "25%          1.0\n",
       "50%          2.0\n",
       "75%          3.0\n",
       "90%          6.0\n",
       "95%          7.0\n",
       "99%         11.0\n",
       "max         25.0\n",
       "Name: ancestor_path, dtype: float64"
      ]
     },
     "execution_count": 9,
     "metadata": {},
     "output_type": "execute_result"
    }
   ],
   "source": [
    "(comments['ancestor_path']\n",
    " .map(len)\n",
    " .describe(percentiles=[0.25, 0.5, 0.75, 0.9, 0.95, 0.99])\n",
    " .round(1))"
   ]
  },
  {
   "cell_type": "markdown",
   "id": "9870d9ef",
   "metadata": {},
   "source": [
    "## User Stats\n",
    "Compute comment stats based around users"
   ]
  },
  {
   "cell_type": "code",
   "execution_count": 10,
   "id": "fbbbf205",
   "metadata": {},
   "outputs": [
    {
     "data": {
      "text/plain": [
       "17      1508\n",
       "0       1190\n",
       "160      826\n",
       "57       780\n",
       "49       644\n",
       "        ... \n",
       "1446       1\n",
       "692        1\n",
       "1448       1\n",
       "690        1\n",
       "2039       1\n",
       "Name: user_id, Length: 2040, dtype: int64"
      ]
     },
     "execution_count": 10,
     "metadata": {},
     "output_type": "execute_result"
    }
   ],
   "source": [
    "user_comment_counts = comments['user_id'].value_counts()\n",
    "user_comment_counts"
   ]
  },
  {
   "cell_type": "code",
   "execution_count": 11,
   "id": "4fd876d9",
   "metadata": {
    "scrolled": true
   },
   "outputs": [
    {
     "data": {
      "text/plain": [
       "count    2040.0\n",
       "mean       14.7\n",
       "std        63.6\n",
       "min         1.0\n",
       "25%         1.0\n",
       "50%         2.0\n",
       "75%         7.0\n",
       "90%        23.0\n",
       "95%        55.0\n",
       "99%       243.7\n",
       "max      1508.0\n",
       "Name: user_id, dtype: float64"
      ]
     },
     "execution_count": 11,
     "metadata": {},
     "output_type": "execute_result"
    }
   ],
   "source": [
    "comments_per_a_user_stats = (user_comment_counts\n",
    " .describe(percentiles=[0.25, 0.5, 0.75, 0.9, 0.95, 0.99])\n",
    " .round(1))\n",
    "comments_per_a_user_stats"
   ]
  },
  {
   "cell_type": "code",
   "execution_count": 12,
   "id": "6859eff3",
   "metadata": {},
   "outputs": [
    {
     "name": "stdout",
     "output_type": "stream",
     "text": [
      "|                 |   mean |   min |   25% |   50% |   75% |   90% |   95% |   99% |   max |\n",
      "|:----------------|-------:|------:|------:|------:|------:|------:|------:|------:|------:|\n",
      "| comments / user |   14.7 |     1 |     1 |     2 |     7 |    23 |    55 | 243.7 |  1508 |\n"
     ]
    }
   ],
   "source": [
    "print(comments_per_a_user_stats.drop(['std', 'count']).rename('comments / user').to_frame().T.to_markdown())"
   ]
  },
  {
   "cell_type": "code",
   "execution_count": 13,
   "id": "4a387cc7",
   "metadata": {},
   "outputs": [
    {
     "data": {
      "text/plain": [
       "56"
      ]
     },
     "execution_count": 13,
     "metadata": {},
     "output_type": "execute_result"
    }
   ],
   "source": [
    "(user_comment_counts >= 100).sum()"
   ]
  },
  {
   "cell_type": "code",
   "execution_count": 14,
   "id": "b700db36",
   "metadata": {},
   "outputs": [
    {
     "data": {
      "text/html": [
       "<div>\n",
       "<style scoped>\n",
       "    .dataframe tbody tr th:only-of-type {\n",
       "        vertical-align: middle;\n",
       "    }\n",
       "\n",
       "    .dataframe tbody tr th {\n",
       "        vertical-align: top;\n",
       "    }\n",
       "\n",
       "    .dataframe thead th {\n",
       "        text-align: right;\n",
       "    }\n",
       "</style>\n",
       "<table border=\"1\" class=\"dataframe tex2jax_ignore\">\n",
       "  <thead>\n",
       "    <tr style=\"text-align: right;\">\n",
       "      <th></th>\n",
       "      <th>count_frac</th>\n",
       "      <th>rank</th>\n",
       "      <th>rank_count</th>\n",
       "    </tr>\n",
       "  </thead>\n",
       "  <tbody>\n",
       "    <tr>\n",
       "      <th>0</th>\n",
       "      <td>0.000033</td>\n",
       "      <td>0.000000</td>\n",
       "      <td>2040</td>\n",
       "    </tr>\n",
       "    <tr>\n",
       "      <th>1</th>\n",
       "      <td>0.000067</td>\n",
       "      <td>0.000490</td>\n",
       "      <td>2039</td>\n",
       "    </tr>\n",
       "    <tr>\n",
       "      <th>2</th>\n",
       "      <td>0.000100</td>\n",
       "      <td>0.000980</td>\n",
       "      <td>2038</td>\n",
       "    </tr>\n",
       "    <tr>\n",
       "      <th>3</th>\n",
       "      <td>0.000134</td>\n",
       "      <td>0.001471</td>\n",
       "      <td>2037</td>\n",
       "    </tr>\n",
       "    <tr>\n",
       "      <th>4</th>\n",
       "      <td>0.000167</td>\n",
       "      <td>0.001961</td>\n",
       "      <td>2036</td>\n",
       "    </tr>\n",
       "    <tr>\n",
       "      <th>...</th>\n",
       "      <td>...</td>\n",
       "      <td>...</td>\n",
       "      <td>...</td>\n",
       "    </tr>\n",
       "    <tr>\n",
       "      <th>2035</th>\n",
       "      <td>0.856054</td>\n",
       "      <td>0.997549</td>\n",
       "      <td>5</td>\n",
       "    </tr>\n",
       "    <tr>\n",
       "      <th>2036</th>\n",
       "      <td>0.882140</td>\n",
       "      <td>0.998039</td>\n",
       "      <td>4</td>\n",
       "    </tr>\n",
       "    <tr>\n",
       "      <th>2037</th>\n",
       "      <td>0.909766</td>\n",
       "      <td>0.998529</td>\n",
       "      <td>3</td>\n",
       "    </tr>\n",
       "    <tr>\n",
       "      <th>2038</th>\n",
       "      <td>0.949565</td>\n",
       "      <td>0.999020</td>\n",
       "      <td>2</td>\n",
       "    </tr>\n",
       "    <tr>\n",
       "      <th>2039</th>\n",
       "      <td>1.000000</td>\n",
       "      <td>0.999510</td>\n",
       "      <td>1</td>\n",
       "    </tr>\n",
       "  </tbody>\n",
       "</table>\n",
       "<p>2040 rows × 3 columns</p>\n",
       "</div>"
      ],
      "text/plain": [
       "      count_frac      rank  rank_count\n",
       "0       0.000033  0.000000        2040\n",
       "1       0.000067  0.000490        2039\n",
       "2       0.000100  0.000980        2038\n",
       "3       0.000134  0.001471        2037\n",
       "4       0.000167  0.001961        2036\n",
       "...          ...       ...         ...\n",
       "2035    0.856054  0.997549           5\n",
       "2036    0.882140  0.998039           4\n",
       "2037    0.909766  0.998529           3\n",
       "2038    0.949565  0.999020           2\n",
       "2039    1.000000  0.999510           1\n",
       "\n",
       "[2040 rows x 3 columns]"
      ]
     },
     "execution_count": 14,
     "metadata": {},
     "output_type": "execute_result"
    }
   ],
   "source": [
    "user_comment_fracs = np.cumsum(user_comment_counts.iloc[::-1]) / user_comment_counts.sum()\n",
    "user_comment_fracs = user_comment_fracs.rename('count_frac')\n",
    "user_comment_fracs = user_comment_fracs.reset_index().drop(['index'], axis=1).reset_index()#['user_id']\n",
    "user_comment_fracs['rank'] = user_comment_fracs['index'] / len(user_comment_fracs)\n",
    "user_comment_fracs['rank_count'] = len(user_comment_fracs) - user_comment_fracs['index']\n",
    "user_comment_fracs = user_comment_fracs.drop(['index'], axis=1)\n",
    "user_comment_fracs"
   ]
  },
  {
   "cell_type": "code",
   "execution_count": 15,
   "id": "52d9380b",
   "metadata": {},
   "outputs": [
    {
     "data": {
      "image/png": "[encoded data removed]",
      "text/plain": [
       "<Figure size 720x432 with 1 Axes>"
      ]
     },
     "metadata": {},
     "output_type": "display_data"
    }
   ],
   "source": [
    "user_comment_fracs.plot('rank', 'count_frac', style='-', linewidth=3, figsize=(10, 6))\n",
    "plt.ylabel('Fraction of Comments')\n",
    "plt.xlabel('User Comment Count Rank')\n",
    "plt.grid(True, linestyle='--')\n",
    "plt.ylim(0, 1)\n",
    "plt.xlim(0, 1)\n",
    "plt.gca().get_legend().remove()\n"
   ]
  },
  {
   "cell_type": "code",
   "execution_count": 16,
   "id": "5b026170",
   "metadata": {},
   "outputs": [
    {
     "data": {
      "text/plain": [
       "0.12401960784313726"
      ]
     },
     "execution_count": 16,
     "metadata": {},
     "output_type": "execute_result"
    }
   ],
   "source": [
    "1 - user_comment_fracs['rank'][user_comment_fracs['count_frac'] > 0.2].iloc[0]"
   ]
  },
  {
   "cell_type": "code",
   "execution_count": 17,
   "id": "3216144d",
   "metadata": {},
   "outputs": [
    {
     "data": {
      "text/plain": [
       "0.02352941176470591"
      ]
     },
     "execution_count": 17,
     "metadata": {},
     "output_type": "execute_result"
    }
   ],
   "source": [
    "1 - user_comment_fracs['rank'][user_comment_fracs['count_frac'] > 0.5].iloc[0]"
   ]
  },
  {
   "cell_type": "code",
   "execution_count": 18,
   "id": "619ff359",
   "metadata": {},
   "outputs": [
    {
     "data": {
      "text/plain": [
       "0.8188866155157716"
      ]
     },
     "execution_count": 18,
     "metadata": {},
     "output_type": "execute_result"
    }
   ],
   "source": [
    "def gini_coefficient(x: pd.Series) -> float:\n",
    "    diffsum = 0\n",
    "    for i, xi in enumerate(x[:-1], 1):\n",
    "        diffsum += np.sum(np.abs(xi - x[i:]))\n",
    "    return diffsum / (len(x)**2 * np.mean(x))\n",
    "\n",
    "gini_coefficient(user_comment_counts)"
   ]
  },
  {
   "cell_type": "markdown",
   "id": "eb1e5fa0",
   "metadata": {},
   "source": [
    "## User Like Stats\n",
    "Compute comment stats based around likes (i.e., ❤'s)  received by users"
   ]
  },
  {
   "cell_type": "code",
   "execution_count": 19,
   "id": "3920bb21",
   "metadata": {},
   "outputs": [
    {
     "data": {
      "text/plain": [
       "229"
      ]
     },
     "execution_count": 19,
     "metadata": {},
     "output_type": "execute_result"
    }
   ],
   "source": [
    "comments['hearts'].max()"
   ]
  },
  {
   "cell_type": "code",
   "execution_count": 20,
   "id": "08ad669b",
   "metadata": {},
   "outputs": [
    {
     "data": {
      "text/plain": [
       "95423"
      ]
     },
     "execution_count": 20,
     "metadata": {},
     "output_type": "execute_result"
    }
   ],
   "source": [
    "comments['hearts'].sum()"
   ]
  },
  {
   "cell_type": "code",
   "execution_count": 21,
   "id": "48225873",
   "metadata": {},
   "outputs": [
    {
     "data": {
      "text/plain": [
       "user_id\n",
       "17      4545\n",
       "0       3787\n",
       "263     2216\n",
       "160     2004\n",
       "8       1622\n",
       "        ... \n",
       "1715       0\n",
       "1714       0\n",
       "1106       0\n",
       "1712       0\n",
       "1125       0\n",
       "Name: hearts, Length: 2040, dtype: int64"
      ]
     },
     "execution_count": 21,
     "metadata": {},
     "output_type": "execute_result"
    }
   ],
   "source": [
    "user_like_sums = comments.groupby('user_id')['hearts'].sum().sort_values(ascending=False)\n",
    "user_like_sums"
   ]
  },
  {
   "cell_type": "code",
   "execution_count": 22,
   "id": "98fb2a82",
   "metadata": {},
   "outputs": [
    {
     "data": {
      "text/plain": [
       "count    2040.0\n",
       "mean       46.8\n",
       "std       198.1\n",
       "min         0.0\n",
       "25%         1.0\n",
       "50%         5.0\n",
       "75%        23.0\n",
       "90%        78.0\n",
       "95%       183.0\n",
       "99%       841.0\n",
       "max      4545.0\n",
       "Name: hearts, dtype: float64"
      ]
     },
     "execution_count": 22,
     "metadata": {},
     "output_type": "execute_result"
    }
   ],
   "source": [
    "likes_per_a_user_stats = (user_like_sums\n",
    " .describe(percentiles=[0.25, 0.5, 0.75, 0.9, 0.95, 0.99])\n",
    " .round(1))\n",
    "likes_per_a_user_stats"
   ]
  },
  {
   "cell_type": "code",
   "execution_count": 23,
   "id": "72e5e9a2",
   "metadata": {},
   "outputs": [
    {
     "data": {
      "text/plain": [
       "0.77367679990499"
      ]
     },
     "execution_count": 23,
     "metadata": {},
     "output_type": "execute_result"
    }
   ],
   "source": [
    "gini_coefficient(likes_per_a_user_stats)"
   ]
  },
  {
   "cell_type": "code",
   "execution_count": 24,
   "id": "9cc81648",
   "metadata": {},
   "outputs": [
    {
     "name": "stdout",
     "output_type": "stream",
     "text": [
      "|              |   mean |   min |   25% |   50% |   75% |   90% |   95% |   99% |   max |\n",
      "|:-------------|-------:|------:|------:|------:|------:|------:|------:|------:|------:|\n",
      "| likes / user |   46.8 |     0 |     1 |     5 |    23 |    78 |   183 |   841 |  4545 |\n"
     ]
    }
   ],
   "source": [
    "print(likes_per_a_user_stats.drop(['std', 'count']).rename('likes / user').to_frame().T.to_markdown())"
   ]
  }
 ],
 "metadata": {
  "kernelspec": {
   "display_name": "Python 3 (ipykernel)",
   "language": "python",
   "name": "python3"
  },
  "language_info": {
   "codemirror_mode": {
    "name": "ipython",
    "version": 3
   },
   "file_extension": ".py",
   "mimetype": "text/x-python",
   "name": "python",
   "nbconvert_exporter": "python",
   "pygments_lexer": "ipython3",
   "version": "3.9.5"
  }
 },
 "nbformat": 4,
 "nbformat_minor": 5
}
